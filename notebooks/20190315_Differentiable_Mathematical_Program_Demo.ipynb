{
 "cells": [
  {
   "cell_type": "code",
   "execution_count": 1,
   "metadata": {},
   "outputs": [],
   "source": [
    "%matplotlib inline\n",
    "%load_ext autoreload\n",
    "%autoreload 2\n",
    "\n",
    "from __future__ import print_function\n",
    "import math\n",
    "import matplotlib.pyplot as plt\n",
    "import numpy as np\n",
    "import os\n",
    "import sys\n",
    "import time\n",
    "\n",
    "from pydrake.solvers.mathematicalprogram import MathematicalProgram, Solve\n",
    "from pydrake.solvers.ipopt import IpoptSolver"
   ]
  },
  {
   "cell_type": "code",
   "execution_count": 6,
   "metadata": {},
   "outputs": [
    {
     "name": "stdout",
     "output_type": "stream",
     "text": [
      "Successful:  True\n",
      "Solver:  SNOPT/f2c\n",
      "xystar:  [-0.15058434 -0.69088665]\n"
     ]
    }
   ],
   "source": [
    "mp = MathematicalProgram()\n",
    "xy = mp.NewContinuousVariables(2, \"xy\")\n",
    "\n",
    "#def constraint(xy):\n",
    "#    return np.array([xy[0]*xy[0] + 2.0*xy[1]*xy[1]])\n",
    "#constraint_bounds = (np.array([0.]), np.array([1.]))\n",
    "#mp.AddConstraint(constraint, constraint_bounds[0], constraint_bounds[1], xy)\n",
    "\n",
    "def constraint(xy):\n",
    "    theta = 1.0\n",
    "    return np.array([[np.cos(theta), -np.sin(theta)],\n",
    "                     [np.sin(theta), np.cos(theta)]]).dot(\n",
    "        np.array([xy[0], xy[1]]))\n",
    "constraint_bounds = (np.array([-0.5, -0.5]), np.array([0.5, 0.5]))\n",
    "mp.AddConstraint(constraint, constraint_bounds[0], constraint_bounds[1], xy)\n",
    "\n",
    "def cost(xy):\n",
    "    return xy[0]*1.0 + xy[1]*1.0\n",
    "\n",
    "mp.AddCost(cost, xy)\n",
    "#solver = IpoptSolver()\n",
    "#result = solver.Solve(mp, None, None)\n",
    "result = Solve(mp)\n",
    "xystar = result.GetSolution()\n",
    "print(\"Successful: \", result.is_success())\n",
    "print(\"Solver: \", result.get_solver_id().name())\n",
    "print(\"xystar: \", xystar)"
   ]
  },
  {
   "cell_type": "code",
   "execution_count": 7,
   "metadata": {},
   "outputs": [
    {
     "name": "stdout",
     "output_type": "stream",
     "text": [
      "Cost:  <pydrake.solvers.mathematicalprogram.Binding_Cost object at 0x7f4e53967030>\n",
      "Eval at xystar:  [-0.84147098]\n",
      "Gradient at xystar:  [1. 1.]\n",
      "Constraint:  <pydrake.solvers.mathematicalprogram.Binding_Constraint object at 0x7f4e53967bf0>\n",
      "Eval at xystar:  [ 0.5 -0.5]\n",
      "Gradient at xystar:  [[ 0.54030231 -0.84147098]\n",
      " [ 0.84147098  0.54030231]]\n",
      "Total cost grad dir:  [0.70710678 0.70710678]\n",
      "Total constraint grad dir:  [-0.21295842 -0.97706126]\n"
     ]
    }
   ],
   "source": [
    "# Demo of pulling costs / constraints from MathematicalProgram\n",
    "# and evaluating them / getting gradients.\n",
    "from pydrake.forwarddiff import gradient, jacobian\n",
    "\n",
    "costs = mp.GetAllCosts()\n",
    "total_cost_gradient = np.zeros(xystar.shape)\n",
    "for cost in costs:\n",
    "    print(\"Cost: \", cost)\n",
    "    print(\"Eval at xystar: \", cost.evaluator().Eval(xystar))\n",
    "    grad = gradient(cost.evaluator().Eval, xystar)\n",
    "    print(\"Gradient at xystar: \", grad)\n",
    "    total_cost_gradient += grad\n",
    "constraints = mp.GetAllConstraints()\n",
    "total_constraint_gradient = np.zeros(xystar.shape)\n",
    "for constraint in constraints:\n",
    "    print(\"Constraint: \", constraint)\n",
    "    val = constraint.evaluator().Eval(xystar)\n",
    "    print(\"Eval at xystar: \", val)\n",
    "    jac = jacobian(constraint.evaluator().Eval, xystar)\n",
    "    print(\"Gradient at xystar: \", jac)\n",
    "    total_constraint_gradient -= (val <= constraint_bounds[0] + 1E-6).dot(jac)\n",
    "    total_constraint_gradient += (val >= constraint_bounds[1] - 1E-6).dot(jac)\n",
    "\n",
    "if np.any(total_cost_gradient):\n",
    "    total_cost_gradient /= np.linalg.norm(total_cost_gradient)\n",
    "if np.any(total_constraint_gradient):\n",
    "    total_constraint_gradient /= np.linalg.norm(total_constraint_gradient)\n",
    "print(\"Total cost grad dir: \", total_cost_gradient)\n",
    "print(\"Total constraint grad dir: \", total_constraint_gradient)"
   ]
  },
  {
   "cell_type": "code",
   "execution_count": 8,
   "metadata": {},
   "outputs": [
    {
     "data": {
      "image/png": "[encoded data removed]",
      "text/plain": [
       "<Figure size 432x288 with 1 Axes>"
      ]
     },
     "metadata": {
      "needs_background": "light"
     },
     "output_type": "display_data"
    }
   ],
   "source": [
    "# Draw feasible region\n",
    "x_bounds = [-2., 2.]\n",
    "y_bounds = [-2., 2.]\n",
    "n_pts = [200, 300]\n",
    "X, Y = np.meshgrid(np.linspace(x_bounds[0], x_bounds[1], n_pts[0]),\n",
    "                   np.linspace(y_bounds[0], y_bounds[1], n_pts[1]),\n",
    "                   indexing=\"ij\")\n",
    "\n",
    "vals = np.ones(n_pts)\n",
    "for constraint in mp.GetAllConstraints():\n",
    "    for i in range(n_pts[0]):\n",
    "        for j in range(n_pts[1]):\n",
    "            vals_here = constraint.evaluator().Eval(np.array([X[i, j], Y[i, j]]))\n",
    "            vals[i, j] = (\n",
    "                np.all(vals_here >= constraint.evaluator().lower_bound()) and\n",
    "                np.all(vals_here <= constraint.evaluator().upper_bound())\n",
    "            )\n",
    "    \n",
    "\n",
    "plt.imshow(vals, extent=x_bounds+y_bounds)\n",
    "arrow_cost = plt.arrow(\n",
    "    xystar[0], xystar[1],\n",
    "    total_cost_gradient[0]/2., total_cost_gradient[1]/2.,\n",
    "    width=0.05, color=\"g\")\n",
    "arrow_constraint = plt.arrow(\n",
    "    xystar[0], xystar[1],\n",
    "    total_constraint_gradient[0]/2., total_constraint_gradient[1]/2.,\n",
    "    width=0.05, color=\"r\")\n",
    "plt.legend([arrow_cost, arrow_constraint, ], [\"Cost Increase Dir\", \"Constraint Violation Dir\"]);"
   ]
  },
  {
   "cell_type": "code",
   "execution_count": null,
   "metadata": {},
   "outputs": [],
   "source": []
  }
 ],
 "metadata": {
  "kernelspec": {
   "display_name": "Python (py27_pyro)",
   "language": "python",
   "name": "py27"
  },
  "language_info": {
   "codemirror_mode": {
    "name": "ipython",
    "version": 2
   },
   "file_extension": ".py",
   "mimetype": "text/x-python",
   "name": "python",
   "nbconvert_exporter": "python",
   "pygments_lexer": "ipython2",
   "version": "2.7.15"
  }
 },
 "nbformat": 4,
 "nbformat_minor": 2
}
