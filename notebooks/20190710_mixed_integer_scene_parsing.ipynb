{
 "cells": [
  {
   "cell_type": "code",
   "execution_count": 1,
   "metadata": {},
   "outputs": [
    {
     "ename": "SyntaxError",
     "evalue": "from __future__ imports must occur at the beginning of the file (<ipython-input-1-d81f28347628>, line 8)",
     "output_type": "error",
     "traceback": [
      "\u001b[0;36m  File \u001b[0;32m\"<ipython-input-1-d81f28347628>\"\u001b[0;36m, line \u001b[0;32m8\u001b[0m\n\u001b[0;31m    import numpy as np\u001b[0m\n\u001b[0m           ^\u001b[0m\n\u001b[0;31mSyntaxError\u001b[0m\u001b[0;31m:\u001b[0m from __future__ imports must occur at the beginning of the file\n"
     ]
    }
   ],
   "source": [
    "%matplotlib inline\n",
    "%load_ext autoreload\n",
    "%autoreload 2\n",
    "\n",
    "from __future__ import print_function\n",
    "import matplotlib.pyplot as plt\n",
    "import networkx as nx\n",
    "import numpy as np\n",
    "import pydrake\n",
    "import torch"
   ]
  },
  {
   "cell_type": "markdown",
   "metadata": {},
   "source": [
    "The scene is parsed as a tree, with terminal nodes representing observed objects, and nonterminal nodes representing abstract clusterings of objects. (For example, a collection of forks, plates, and cups on a table can be grouped into place settings, which can be further grouped into a table.) Each node has a set of production rules, each of which generates a different set of child nodes.\n",
    "\n",
    "The total probability for the whole tree is \n",
    "\n",
    "$\\prod_{node} p(node)$.\n",
    "\n",
    "For a given node and its single active production rule, its probability is\n",
    "\n",
    "$p(node) = p(rule | node) * p(children | rule, node)$.\n",
    "\n",
    "The space of all valid parses is a hypertree rooted at the root node, with a hyperedge for each production rule leading to the set of products of that rule. A valid parse (or generation) is path from the root of the hypertree to a set of terminal nodes with nonzero total probability.\n",
    "\n",
    "To help organize, nodes can be one of a few kinds:\n",
    "  - TerminalNode\n",
    "  - AndNode, indicating all of its production rules are always taken\n",
    "  - ExclusiveOrNode, indicating exactly one of its production rules are taken\n",
    "  - IndependentSetNode, indicating each rules may or may not be exercised independently\n",
    "  - CovaryingSetNode, indicating each rule may or may not be exercised, but each combination has its own probability"
   ]
  },
  {
   "cell_type": "code",
   "execution_count": 4,
   "metadata": {},
   "outputs": [],
   "source": [
    "class ProductionRule(object):\n",
    "    def __init__(self, products):\n",
    "        self.products = products\n",
    "\n",
    "    def get_products(self):\n",
    "        return self.products\n",
    "    \n",
    "    def get_log_likelihood(self, parent, products):\n",
    "        raise NotImplementedError()\n",
    "\n",
    "class HypertreeNode(object):\n",
    "    pass\n",
    "    \n",
    "class IndependentSetNode(HypertreeNode):\n",
    "    def __init__(self):\n",
    "        self.production_rules = production_rules\n",
    "        self.production_probs = production_probs\n",
    "\n",
    "    def get_production_rules(self):\n",
    "        return self.production_rules\n",
    "    \n",
    "    def get_log_likelihood(self, production_rules):\n",
    "        if production_rule not in self.production_rules:\n",
    "            raise ValueError(\"Supplied invalid rule.\")\n",
    "        return self.production_probs[self.production_rules.index(production_rule)]\n",
    "\n",
    "class TerminalNode(HypertreeNode):\n",
    "    def __init__(self):\n",
    "        pass\n",
    "\n",
    "def TableNode(IndependentSetNode):\n",
    "    class PlaceSettingProductionRule(ProductionRule):\n",
    "        def __init__(self, pose):\n",
    "            self.pose = pose\n",
    "            # Create the prototype place setting\n",
    "            # right at the mean\n",
    "            ProductionRule.__init__(self, [PlaceSetting(pose=pose)])\n",
    "\n",
    "        def get_log_likelihood(self, parent, products):\n",
    "            assert(len(products) == 1 and isinstance(products[0], PlaceSetting)\n",
    "                   and isinstance(parent, TableNode))\n",
    "            pose_in_world = chain_pose_transforms(parent.pose, self.pose)\n",
    "            rel_offset = chain_pose_transforms(invert_pose(pose_in_world), abs_offset)\n",
    "\n",
    "            \n",
    "    def __init__(self):\n",
    "        self.pose = torch.tensor([0., 0., 0.])\n",
    "        \n",
    "    \n"
   ]
  }
 ],
 "metadata": {
  "kernelspec": {
   "display_name": "Python [conda env:py36_pyro] *",
   "language": "python",
   "name": "conda-env-py36_pyro-py"
  },
  "language_info": {
   "codemirror_mode": {
    "name": "ipython",
    "version": 3
   },
   "file_extension": ".py",
   "mimetype": "text/x-python",
   "name": "python",
   "nbconvert_exporter": "python",
   "pygments_lexer": "ipython3",
   "version": "3.6.8"
  }
 },
 "nbformat": 4,
 "nbformat_minor": 2
}
