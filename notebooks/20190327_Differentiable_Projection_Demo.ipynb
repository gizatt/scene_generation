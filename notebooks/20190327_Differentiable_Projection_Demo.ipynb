{
 "cells": [
  {
   "cell_type": "code",
   "execution_count": 21,
   "metadata": {},
   "outputs": [
    {
     "name": "stdout",
     "output_type": "stream",
     "text": [
      "The autoreload extension is already loaded. To reload it, use:\n",
      "  %reload_ext autoreload\n"
     ]
    }
   ],
   "source": [
    "%matplotlib inline\n",
    "%load_ext autoreload\n",
    "%autoreload 2\n",
    "\n",
    "from __future__ import print_function\n",
    "from copy import deepcopy\n",
    "import math\n",
    "import matplotlib.pyplot as plt\n",
    "import numpy as np\n",
    "import os\n",
    "import sys\n",
    "import time\n",
    "\n",
    "import pydrake\n",
    "from pydrake.autodiffutils import AutoDiffXd\n",
    "from pydrake.common.eigen_geometry import Quaternion, AngleAxis, Isometry3\n",
    "from pydrake.forwarddiff import gradient, jacobian\n",
    "from pydrake.geometry import (\n",
    "    Box,\n",
    "    Sphere\n",
    ")\n",
    "from pydrake.multibody.inverse_kinematics import InverseKinematics\n",
    "from pydrake.multibody.plant import (\n",
    "    AddMultibodyPlantSceneGraph,\n",
    "    CoulombFriction,\n",
    "    MultibodyPlant\n",
    ")\n",
    "from pydrake.multibody.tree import (\n",
    "    JointIndex,\n",
    "    PrismaticJoint,\n",
    "    SpatialInertia,\n",
    "    UniformGravityFieldElement,\n",
    "    UnitInertia\n",
    ")\n",
    "from pydrake.solvers.mathematicalprogram import MathematicalProgram, Solve\n",
    "from pydrake.systems.framework import DiagramBuilder\n",
    "\n",
    "import scene_generation.differentiable_nlp as diff_nlp\n",
    "import scene_generation.data.dataset_utils as dataset_utils"
   ]
  },
  {
   "cell_type": "code",
   "execution_count": 17,
   "metadata": {},
   "outputs": [
    {
     "name": "stdout",
     "output_type": "stream",
     "text": [
      "Initial guess:  [ 0.05 -0.05  0.    0.    0.    0.  ]\n",
      "Used solver:  SNOPT/f2c\n",
      "Success?  True\n",
      "qf:  [ 0.10499999 -0.10499999  0.          0.          0.          0.        ]\n"
     ]
    },
    {
     "data": {
      "image/png": "[encoded data removed]",
      "text/plain": [
       "<Figure size 432x432 with 2 Axes>"
      ]
     },
     "metadata": {
      "needs_background": "light"
     },
     "output_type": "display_data"
    }
   ],
   "source": [
    "# OLD METHOD\n",
    "# Simple planar single box\n",
    "env = {\"n_objects\": 2,\n",
    "       \"obj_0000\": {\n",
    "           \"class\": \"2d_box\",\n",
    "           \"color\": [0.5, 0.25, 0.0, 1.0],\n",
    "           \"params\": [0.2, 0.2],\n",
    "           \"params_names\": [\"height\", \"length\"],\n",
    "           \"pose\": [0.05, 0., 0.]},\n",
    "       \"obj_0001\": {\n",
    "           \"class\": \"2d_box\",\n",
    "           \"color\": [0.25, 0.5, 0.0, 1.0],\n",
    "           \"params\": [0.2, 0.2],\n",
    "           \"params_names\": [\"height\", \"length\"],\n",
    "           \"pose\": [-0.05, 0., 0.]}\n",
    "}\n",
    "builder, mbp, sg, q0 = dataset_utils.BuildMbpAndSgFromYamlEnvironment(\n",
    "    yaml_environment=env,\n",
    "    base_environment_type=\"planar_tabletop\")\n",
    "plt.figure()\n",
    "plt.subplot(2, 1, 1)\n",
    "dataset_utils.DrawYamlEnvironmentPlanar(env, base_environment_type=\"planar_tabletop\", ax=plt.gca())\n",
    "plt.subplot(2, 1, 2)\n",
    "feas_env = dataset_utils.ProjectEnvironmentToFeasibility(\n",
    "    env, base_environment_type=\"planar_tabletop\",\n",
    "    make_nonpenetrating=True, make_static=False)\n",
    "dataset_utils.DrawYamlEnvironmentPlanar(feas_env[-1], base_environment_type=\"planar_tabletop\", ax=plt.gca())"
   ]
  },
  {
   "cell_type": "code",
   "execution_count": 54,
   "metadata": {},
   "outputs": [
    {
     "name": "stdout",
     "output_type": "stream",
     "text": [
      "MBP in final:  <pydrake.multibody.plant.MultibodyPlant object at 0x7f6f883a8fb0>\n",
      "setup done\n",
      "Initial guess:  [0.      0.10001 0.     ]\n",
      "Used solver:  SNOPT/f2c\n",
      "Success?  True\n",
      "qf:  [0.         0.10999999 0.        ]\n",
      "Constraint # 0\n",
      "Val: [9.54739602e-13] (range [[0.], [0.]])\n",
      "Jac:  [[ 0.         -0.00013818  0.        ]]\n",
      "Constraint # 1\n",
      "Val: [0.         0.10999999 0.        ] (range [[-inf -inf -inf], [inf inf inf]])\n",
      "Jac:  [[1. 0. 0.]\n",
      " [0. 1. 0.]\n",
      " [0. 0. 1.]]\n",
      "Nullspace:  [[-1.  0.]\n",
      " [ 0.  0.]\n",
      " [ 0.  1.]]\n",
      "Constraint viol dirs:  [[-0.          0.00013818 -0.        ]\n",
      " [ 0.         -0.00013818  0.        ]]\n",
      "dqf_dq0:  [[1. 0. 0.]\n",
      " [0. 0. 0.]\n",
      " [0. 0. 1.]]\n"
     ]
    },
    {
     "data": {
      "image/png": "[encoded data removed]",
      "text/plain": [
       "<Figure size 432x432 with 2 Axes>"
      ]
     },
     "metadata": {
      "needs_background": "light"
     },
     "output_type": "display_data"
    }
   ],
   "source": [
    "env = {\"n_objects\": 1,\n",
    "       \"obj_0000\": {\n",
    "           \"class\": \"2d_box\",\n",
    "           \"color\": [0.5, 0.25, 0.0, 1.0],\n",
    "           \"params\": [0.2, 0.2],\n",
    "           \"params_names\": [\"height\", \"length\"],\n",
    "           \"pose\": [0.00, 0.10001, 0.]},\n",
    "       \"obj_0001\": {\n",
    "           \"class\": \"2d_box\",\n",
    "           \"color\": [0.25, 0.5, 0.0, 1.0],\n",
    "           \"params\": [0.2, 0.2],\n",
    "           \"params_names\": [\"height\", \"length\"],\n",
    "           \"pose\": [-0.05, 0., 0.]}\n",
    "}\n",
    "builder, mbp, scene_graph, q0 = dataset_utils.BuildMbpAndSgFromYamlEnvironment(\n",
    "        env, \"planar_bin\")\n",
    "diagram = builder.Build()\n",
    "\n",
    "diagram_context = diagram.CreateDefaultContext()\n",
    "mbp_context = diagram.GetMutableSubsystemContext(\n",
    "    mbp, diagram_context)\n",
    "\n",
    "\n",
    "diff_nlp_res = diff_nlp.ProjectMBPToFeasibility(\n",
    "    q0, mbp, mbp_context,\n",
    "    [diff_nlp.SetArguments(\n",
    "        diff_nlp.AddMinimumDistanceConstraint, minimum_distance=0.01)],\n",
    "    compute_gradients_at_solution=True,\n",
    "    verbose=2)\n",
    "\n",
    "# Update poses in output dict\n",
    "feas_env = deepcopy(env)\n",
    "output_qf = diff_nlp_res.qf\n",
    "for k in range(env[\"n_objects\"]):\n",
    "    x_index = mbp.GetJointByName(\n",
    "        \"body_{}_x\".format(k)).position_start()\n",
    "    z_index = mbp.GetJointByName(\n",
    "        \"body_{}_z\".format(k)).position_start()\n",
    "    t_index = mbp.GetJointByName(\n",
    "        \"body_{}_theta\".format(k)).position_start()\n",
    "\n",
    "    pose = [output_qf[x_index],\n",
    "            output_qf[z_index],\n",
    "            output_qf[t_index]]\n",
    "    feas_env[\"obj_%04d\" % k][\"pose\"] = pose\n",
    "    \n",
    "plt.figure()\n",
    "plt.subplot(2, 1, 1)\n",
    "dataset_utils.DrawYamlEnvironmentPlanar(env, base_environment_type=\"planar_bin\", ax=plt.gca())\n",
    "plt.subplot(2, 1, 2)\n",
    "dataset_utils.DrawYamlEnvironmentPlanar(feas_env, base_environment_type=\"planar_bin\", ax=plt.gca())"
   ]
  }
 ],
 "metadata": {
  "kernelspec": {
   "display_name": "Python (py27_pyro)",
   "language": "python",
   "name": "py27"
  },
  "language_info": {
   "codemirror_mode": {
    "name": "ipython",
    "version": 2
   },
   "file_extension": ".py",
   "mimetype": "text/x-python",
   "name": "python",
   "nbconvert_exporter": "python",
   "pygments_lexer": "ipython2",
   "version": "2.7.15"
  }
 },
 "nbformat": 4,
 "nbformat_minor": 2
}
